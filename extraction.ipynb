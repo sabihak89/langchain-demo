{
 "cells": [
  {
   "cell_type": "code",
   "execution_count": 1,
   "id": "5b4a89f7-7e6d-4b6b-a01f-49ef5f4a0b11",
   "metadata": {},
   "outputs": [
    {
     "name": "stdout",
     "output_type": "stream",
     "text": [
      "Note: you may need to restart the kernel to use updated packages.\n"
     ]
    }
   ],
   "source": [
    "pip install -qU \"langchain[openai]\""
   ]
  },
  {
   "cell_type": "code",
   "execution_count": 1,
   "id": "c6dd9e54-50f6-4f5e-96ab-398d4849f8c6",
   "metadata": {},
   "outputs": [
    {
     "name": "stdout",
     "output_type": "stream",
     "text": [
      "Note: you may need to restart the kernel to use updated packages.\n"
     ]
    }
   ],
   "source": [
    "pip install --quiet --upgrade langchain-core"
   ]
  },
  {
   "cell_type": "code",
   "execution_count": 13,
   "id": "443f47fd-ac09-4187-9b93-82603f0b0f8f",
   "metadata": {},
   "outputs": [],
   "source": [
    "import getpass\n",
    "import os\n",
    "\n",
    "if not os.environ.get(\"LANGSMITH_API_KEY\"):\n",
    "    os.environ[\"LANGSMITH_API_KEY\"] = getpass.getpass(\"Enter langsmith api key: \")\n",
    "if not os.environ.get(\"OPENAI_API_KEY\"):\n",
    "    os.environ[\"OPENAI_API_KEY\"] = getpass.getpass(\"Enter Openai Api Key: \")\n",
    "\n",
    "os.environ[\"LANGSMITH_TRACING\"]=\"true\"\n",
    "\n",
    "from langchain.chat_models import init_chat_model\n",
    "llm = init_chat_model(\"gpt-4.1-mini\")\n",
    "    "
   ]
  },
  {
   "cell_type": "code",
   "execution_count": 19,
   "id": "80bc4ce7-5b29-482f-be86-3afe3018509a",
   "metadata": {},
   "outputs": [],
   "source": [
    "from typing import Optional\n",
    "from pydantic import BaseModel, Field\n",
    "\n",
    "class Person(BaseModel):\n",
    "    height: Optional[int] = Field(default=None, description=\"The height of individual in metres\")\n",
    "    name: Optional[str] = Field(default=None, description=\"first name of the individual\")\n",
    "    nationality : Optional[str] = Field(default=None, description = \"Nationality of the individual\")\n",
    "    gender : str = Field(description= \"Gender of the person\")\n",
    "structured_llm = llm.with_structured_output(Person)\n",
    "    "
   ]
  },
  {
   "cell_type": "code",
   "execution_count": 21,
   "id": "8b8f4499-26dd-4869-b5e6-e34d240f67e0",
   "metadata": {},
   "outputs": [
    {
     "data": {
      "text/plain": [
       "Person(height=2, name='Sabiha Khan', nationality='Indian', gender='female')"
      ]
     },
     "execution_count": 21,
     "metadata": {},
     "output_type": "execute_result"
    }
   ],
   "source": [
    "from langchain_core.prompts import ChatPromptTemplate, MessagesPlaceholder\n",
    "prompt_template = ChatPromptTemplate.from_messages(\n",
    "    [\n",
    "        (\"\"\"\n",
    "        Extract only the relvant information from the given input,\n",
    "        use only the given attrobutes in the Person function,\n",
    "        in case an attribute is not found you can return null for the same\n",
    "        \"\"\"),\n",
    "        (\"human {input}\")\n",
    "    ]\n",
    ")\n",
    "inp = \"Hello, My name is Sabiha Khan and I am from Bengaluru, India. I am the only woman in 2m radius right now\"\n",
    "prompt = prompt_template.invoke({\"input\":inp})\n",
    "response = structured_llm.invoke(prompt)\n",
    "response"
   ]
  }
 ],
 "metadata": {
  "kernelspec": {
   "display_name": "Python 3 (ipykernel)",
   "language": "python",
   "name": "python3"
  },
  "language_info": {
   "codemirror_mode": {
    "name": "ipython",
    "version": 3
   },
   "file_extension": ".py",
   "mimetype": "text/x-python",
   "name": "python",
   "nbconvert_exporter": "python",
   "pygments_lexer": "ipython3",
   "version": "3.11.1"
  }
 },
 "nbformat": 4,
 "nbformat_minor": 5
}
