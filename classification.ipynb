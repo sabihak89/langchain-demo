{
 "cells": [
  {
   "cell_type": "code",
   "execution_count": 2,
   "id": "c6fb2947-c04c-40de-8665-9a3ac10f6e33",
   "metadata": {},
   "outputs": [
    {
     "name": "stdout",
     "output_type": "stream",
     "text": [
      "Note: you may need to restart the kernel to use updated packages.\n"
     ]
    }
   ],
   "source": [
    "pip install --upgrade --quiet langchain-core"
   ]
  },
  {
   "cell_type": "code",
   "execution_count": 1,
   "id": "cab68701-fd5b-49c2-8e42-0b4ea8e505eb",
   "metadata": {},
   "outputs": [
    {
     "name": "stdout",
     "output_type": "stream",
     "text": [
      "Note: you may need to restart the kernel to use updated packages.\n"
     ]
    }
   ],
   "source": [
    "pip install -qU \"langchain[openai]\""
   ]
  },
  {
   "cell_type": "code",
   "execution_count": 3,
   "id": "f578c1f4-c737-4e7a-b838-9ade1cdb5543",
   "metadata": {},
   "outputs": [
    {
     "name": "stdout",
     "output_type": "stream",
     "text": [
      "None\n"
     ]
    }
   ],
   "source": [
    "import os\n",
    "print(os.environ.get(\"OPENAI_API_KEY\"))"
   ]
  },
  {
   "cell_type": "code",
   "execution_count": 7,
   "id": "80bc5297-1318-4dfa-a89a-e75bccb2eb96",
   "metadata": {},
   "outputs": [],
   "source": [
    "import os\n",
    "import getpass\n",
    "\n",
    "if not os.environ.get(\"OPENAI_API_KEY\"):\n",
    "    os.environ[\"OPENAI_API_KEY\"] = getpass.getpass(\"Enter Open AI Key: \")\n",
    "\n",
    "from langchain.chat_models import init_chat_model\n",
    "llm = init_chat_model(\"gpt-4.1-mini\", model_provider=\"openai\")\n",
    "    "
   ]
  },
  {
   "cell_type": "code",
   "execution_count": 21,
   "id": "536b8769-2ab2-4e20-8a0f-e1012c3b5728",
   "metadata": {},
   "outputs": [],
   "source": [
    "from langchain_core.prompts import ChatPromptTemplate\n",
    "from langchain_openai import ChatOpenAI\n",
    "from pydantic import BaseModel, Field\n",
    "\n",
    "tagging_prompt = ChatPromptTemplate.from_template(\n",
    "    \"\"\"\n",
    "    Extract the desired information from the following passage.\n",
    "    Only extract the properties mentioned in the classfication function.\n",
    "    Passage:{input}\n",
    "    \"\"\")\n",
    "\n",
    "class Classification(BaseModel):\n",
    "    aggresiveness: int = Field(description=\"aggressiveness level on a scale from 1 to 10\")\n",
    "    sentiment: str = Field(description=\"The sentiment of the text\", enum = [\"happy\",\"neutral\",\"sad\"])\n",
    "    language: str = Field(description=\"Th language the text is written in\", enum=[\"spanish\",\"english\",\"german\",\"hindi\"])\n",
    "\n",
    "structured_llm = llm.with_structured_output(Classification)\n"
   ]
  },
  {
   "cell_type": "code",
   "execution_count": 22,
   "id": "25994c8e-a626-410f-8fe2-078f7325f335",
   "metadata": {},
   "outputs": [
    {
     "data": {
      "text/plain": [
       "Classification(aggresiveness=1, sentiment='happy', language='hindi')"
      ]
     },
     "execution_count": 22,
     "metadata": {},
     "output_type": "execute_result"
    }
   ],
   "source": [
    "#inp = \"Estoy increiblemente contento de haberte conocido! Creo que seremos muy buenos amigos!\"\n",
    "inp = \"Main kal tumhe bahut saare phool dungi!\"\n",
    "prompt = tagging_prompt.invoke({\"input\": inp})\n",
    "response = structured_llm.invoke(prompt)\n",
    "response"
   ]
  }
 ],
 "metadata": {
  "kernelspec": {
   "display_name": "Python 3 (ipykernel)",
   "language": "python",
   "name": "python3"
  },
  "language_info": {
   "codemirror_mode": {
    "name": "ipython",
    "version": 3
   },
   "file_extension": ".py",
   "mimetype": "text/x-python",
   "name": "python",
   "nbconvert_exporter": "python",
   "pygments_lexer": "ipython3",
   "version": "3.11.1"
  }
 },
 "nbformat": 4,
 "nbformat_minor": 5
}
